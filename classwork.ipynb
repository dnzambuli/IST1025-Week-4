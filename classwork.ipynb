{
 "cells": [
  {
   "cell_type": "markdown",
   "id": "2c679e2f",
   "metadata": {},
   "source": [
    "## Casting \n",
    "converting a variable to be a spcific data type\n",
    "\n",
    "- **int()** converts a string to integer literal, float by removing the decimals\n",
    "\n",
    "- **float()** converts a string or an integer to a float\n",
    "\n",
    "- **str()** converts a variety of data types to string literals"
   ]
  },
  {
   "cell_type": "code",
   "execution_count": 8,
   "id": "80e0bfed",
   "metadata": {},
   "outputs": [],
   "source": [
    "x = int(5) # x will be 1\n",
    "y = int(7.8)\n",
    "z = int(\"7\")\n"
   ]
  },
  {
   "cell_type": "code",
   "execution_count": 6,
   "id": "b0660273",
   "metadata": {},
   "outputs": [
    {
     "name": "stdout",
     "output_type": "stream",
     "text": [
      "5\n",
      "7\n",
      "7\n"
     ]
    }
   ],
   "source": [
    "print(\"%d\\n%d\\n%d\" %(x, y, z))"
   ]
  },
  {
   "cell_type": "markdown",
   "id": "fafbca3e",
   "metadata": {},
   "source": [
    "## Concatinating Strings\n",
    "joining string elements together\n",
    "done by using the overloaded ```+``` operator\n",
    "\n",
    "### Task\n",
    " - create variable fname and lname to hold the first and last name \n",
    " - concatnate fname and lname \n",
    " - store the value in a variable named fullname\n",
    " - print fullname\n",
    " \n",
    "\n",
    " **Notice**\n",
    " \n",
    " if a space is not included then the concatnated string becomes fused"
   ]
  },
  {
   "cell_type": "code",
   "execution_count": 16,
   "id": "0cae9015",
   "metadata": {},
   "outputs": [
    {
     "name": "stdout",
     "output_type": "stream",
     "text": [
      "DanielMutai\n",
      "('Daniel', ' ', 'Mutai')\n"
     ]
    }
   ],
   "source": [
    "fname = \"Daniel\"\n",
    "lname = \"Mutai\"\n",
    "fullname = fname + lname\n",
    "print(fullname)\n",
    "print((fname, ' ', lname))"
   ]
  },
  {
   "cell_type": "markdown",
   "id": "12950ce9",
   "metadata": {},
   "source": [
    "### Task 2\n",
    "- capture three names with spaces in between"
   ]
  },
  {
   "cell_type": "code",
   "execution_count": 18,
   "id": "7ca70720",
   "metadata": {},
   "outputs": [
    {
     "name": "stdout",
     "output_type": "stream",
     "text": [
      "BMI Calculator App\n"
     ]
    }
   ],
   "source": [
    "fname =\"BMI\"\n",
    "nname =\"Calculator\"\n",
    "lname =\"App\"\n",
    "space = \" \"\n",
    "print(f'{fname}{space}{nname}{space}{lname}')"
   ]
  },
  {
   "cell_type": "markdown",
   "id": "9114519a",
   "metadata": {},
   "source": [
    "### Task 3\n",
    "- take number num1 and num2 \n",
    "- sum is equal to num1 and num2\n",
    "- print out num1 + num2 = sum \n",
    "\n",
    "**Notice**\n",
    "\n",
    "sum is special python keyword"
   ]
  },
  {
   "cell_type": "code",
   "execution_count": 20,
   "id": "56dc25f2",
   "metadata": {},
   "outputs": [
    {
     "name": "stdout",
     "output_type": "stream",
     "text": [
      "6 + 8 = 14\n"
     ]
    }
   ],
   "source": [
    "num1 = 6\n",
    "num2 = 8\n",
    "_sum = num1 + num2\n",
    "print(\"%d + %d = %d\"%(num1, num2, _sum))"
   ]
  },
  {
   "cell_type": "code",
   "execution_count": null,
   "id": "8a1a4ad7",
   "metadata": {},
   "outputs": [],
   "source": []
  }
 ],
 "metadata": {
  "kernelspec": {
   "display_name": "Python 3 (ipykernel)",
   "language": "python",
   "name": "python3"
  },
  "language_info": {
   "codemirror_mode": {
    "name": "ipython",
    "version": 3
   },
   "file_extension": ".py",
   "mimetype": "text/x-python",
   "name": "python",
   "nbconvert_exporter": "python",
   "pygments_lexer": "ipython3",
   "version": "3.9.7"
  }
 },
 "nbformat": 4,
 "nbformat_minor": 5
}
