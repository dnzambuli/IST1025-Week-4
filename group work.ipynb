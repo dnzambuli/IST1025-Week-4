{
 "cells": [
  {
   "cell_type": "markdown",
   "id": "d278d5bf",
   "metadata": {},
   "source": [
    "### Variables and Data Types\n",
    "variables are the names and content stored in each memory location of a computer\n",
    "\n",
    "in visual basic \n",
    "```visual basic \n",
    "Dim x as interger\n",
    "```\n",
    "\n",
    "in c\\c++\\java\n",
    "```C\n",
    "int x;\n",
    "```\n",
    "\n",
    "in python \n",
    "```python\n",
    "int x\n",
    "```\n",
    "\n",
    "#### variable names and data \n",
    "variable names are names given to memory spaces to store data \n",
    "```python\n",
    "name = \"John\"\n",
    "number = 20\n",
    "boolean = True\n",
    "float_number = 203.76\n",
    "```\n",
    "\n",
    "#### Rules for naming data types in python \n",
    "- python is case sensitive \n",
    "```python \n",
    "Name = True\n",
    "# is different from \n",
    "name = False\n",
    "```\n",
    "\n",
    "- names can include digits and special characters except in the beginning\n",
    "```python \n",
    "# wrong\n",
    "%num = 3\n",
    "5num = 5\n",
    "\n",
    "#right\n",
    "num = 5\n",
    "```\n",
    "\n",
    "- variable names may include underscorwes or a letter \n",
    "```python \n",
    "Name = \"john\"\n",
    "_Name = \"john\" #private\n",
    "#both similar names but different variables\n",
    "```\n"
   ]
  },
  {
   "cell_type": "code",
   "execution_count": 3,
   "id": "247eeb04",
   "metadata": {},
   "outputs": [
    {
     "name": "stdout",
     "output_type": "stream",
     "text": [
      "The number is 5\n",
      "The name is Jose\n",
      "test = no\n"
     ]
    }
   ],
   "source": [
    "# initiallising variables in python\n",
    "x = 5 \n",
    "y = \"Jose\"\n",
    "_hey = \"no\"\n",
    "print(f\"The number is {x}\\nThe name is {y}\\ntest = {_hey}\")"
   ]
  },
  {
   "cell_type": "markdown",
   "id": "7cca7450",
   "metadata": {},
   "source": [
    "## Bytes and booleans\n",
    "bytes are used to encode charactes and special symbols like smiley faces \n",
    "```python\n",
    "trevor = b'this is my favorite emoji &#128540'\n",
    "print(\"Trevor said:\\n\" + str(trevor))\n",
    "```\n",
    "booleans are the only logical data type in python\n",
    "```python\n",
    "a = 5\n",
    "b = 6\n",
    "\n",
    "a == b # output is data type False\n",
    "a < b # output is data type True\n",
    "```"
   ]
  },
  {
   "cell_type": "code",
   "execution_count": 3,
   "id": "b853697c",
   "metadata": {},
   "outputs": [
    {
     "name": "stdout",
     "output_type": "stream",
     "text": [
      "b' Hello world'\n",
      "b'\\x00\\x00\\x00\\x00'\n",
      "False\n",
      "True\n"
     ]
    }
   ],
   "source": [
    "'''\n",
    "a is immutable non zero byte \n",
    "b is immutable zero byte with 32 bytes\n",
    "'''\n",
    "a = b' Hello world'\n",
    "b = bytes(4)\n",
    "\n",
    "print(f'{a}\\n{b}')\n",
    "\n",
    "num1 = 5\n",
    "num2 = 6\n",
    "print(num1 == num2) # False\n",
    "print(num1 < num2) #True"
   ]
  },
  {
   "cell_type": "code",
   "execution_count": null,
   "id": "f2dcb6ad",
   "metadata": {},
   "outputs": [],
   "source": []
  }
 ],
 "metadata": {
  "kernelspec": {
   "display_name": "Python 3 (ipykernel)",
   "language": "python",
   "name": "python3"
  },
  "language_info": {
   "codemirror_mode": {
    "name": "ipython",
    "version": 3
   },
   "file_extension": ".py",
   "mimetype": "text/x-python",
   "name": "python",
   "nbconvert_exporter": "python",
   "pygments_lexer": "ipython3",
   "version": "3.9.7"
  }
 },
 "nbformat": 4,
 "nbformat_minor": 5
}
